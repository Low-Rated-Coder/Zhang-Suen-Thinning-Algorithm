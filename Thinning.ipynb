{
 "cells": [
  {
   "cell_type": "code",
   "execution_count": 2,
   "metadata": {
    "collapsed": true
   },
   "outputs": [],
   "source": [
    "# Importing libraries ....\n",
    "import matplotlib\n",
    "import matplotlib.pyplot as plt\n",
    "import skimage.io as io"
   ]
  },
  {
   "cell_type": "code",
   "execution_count": 3,
   "metadata": {
    "collapsed": true
   },
   "outputs": [],
   "source": [
    "# Converting Image to Greyscale ....\n",
    "from PIL import Image\n",
    "img = Image.open('ppf1_enhanced.gif').convert('LA')\n",
    "img.save('greyscale.gif')\n",
    "\n",
    "# Loading Image ....\n",
    "Img_Original = io.imread('greyscale.gif')"
   ]
  },
  {
   "cell_type": "code",
   "execution_count": 4,
   "metadata": {
    "collapsed": true
   },
   "outputs": [],
   "source": [
    "# Converting Greyscale Image to Binary Image ....\n",
    "from skimage.filters import threshold_otsu\n",
    "Otsu_Threshold = threshold_otsu(Img_Original)\n",
    "\n",
    "# Setting object region as 1 and background region as 0 ....\n",
    "BW_Original = Img_Original < Otsu_Threshold"
   ]
  },
  {
   "cell_type": "code",
   "execution_count": 5,
   "metadata": {
    "collapsed": true
   },
   "outputs": [],
   "source": [
    "# Function to return 8-neighbours of image point P1(x,y) in a clockwise order ....\n",
    "\n",
    "#                P9 P2 P3\n",
    "#                P8 P1 P4\n",
    "#                P7 P6 P5\n",
    "\n",
    "def neighbours(x,y,image):\n",
    "    img = image\n",
    "    x_1, y_1, x1, y1 = x-1, y-1, x+1, y+1\n",
    "    return [ img[x_1][y],img[x_1][y1],img[x][y1],img[x1][y1],         # P2,P3,P4,P5\n",
    "            img[x1][y], img[x1][y_1], img[x][y_1], img[x_1][y_1] ]    # P6,P7,P8,P9"
   ]
  },
  {
   "cell_type": "code",
   "execution_count": 6,
   "metadata": {
    "collapsed": true
   },
   "outputs": [],
   "source": [
    "# Function to count no. of transitions from 0 to 1 in the ordered sequence ....\n",
    "\n",
    "def transitions(neighbours):\n",
    "    n = neighbours + neighbours[0:1]      # P2,P3,...,P8,P9,P2\n",
    "    return sum( (n1, n2) == (0, 1) for n1, n2 in zip(n, n[1:]) )  # (P2,P3),(P3,P4),...,(P8,P9),(P9,P2)"
   ]
  },
  {
   "cell_type": "code",
   "execution_count": 7,
   "metadata": {
    "collapsed": true
   },
   "outputs": [],
   "source": [
    "# Zhang-Suen Thinning Algorithm ....\n",
    "\n",
    "def zhangSuen(image):\n",
    "    Image_Thinned = image.copy()  # Making copy to protect original image\n",
    "    changing1 = changing2 = 1\n",
    "    while changing1 or changing2:   # Iterates until no further changes occur in the image\n",
    "        # Step 1\n",
    "        changing1 = []\n",
    "        rows, columns = Image_Thinned.shape\n",
    "        for x in range(1, rows - 1):\n",
    "            for y in range(1, columns - 1):\n",
    "                P2,P3,P4,P5,P6,P7,P8,P9 = n = neighbours(x, y, Image_Thinned)\n",
    "                if (Image_Thinned[x][y] == 1     and    # Condition 0: Point P1 in the object regions \n",
    "                    2 <= sum(n) <= 6   and    # Condition 1: 2<= N(P1) <= 6\n",
    "                    transitions(n) == 1 and    # Condition 2: S(P1)=1  \n",
    "                    P2 * P4 * P6 == 0  and    # Condition 3   \n",
    "                    P4 * P6 * P8 == 0):         # Condition 4\n",
    "                    changing1.append((x,y))\n",
    "        for x, y in changing1: \n",
    "            Image_Thinned[x][y] = 0\n",
    "        # Step 2\n",
    "        changing2 = []\n",
    "        for x in range(1, rows - 1):\n",
    "            for y in range(1, columns - 1):\n",
    "                P2,P3,P4,P5,P6,P7,P8,P9 = n = neighbours(x, y, Image_Thinned)\n",
    "                if (Image_Thinned[x][y] == 1   and        # Condition 0\n",
    "                    2 <= sum(n) <= 6  and       # Condition 1\n",
    "                    transitions(n) == 1 and      # Condition 2\n",
    "                    P2 * P4 * P8 == 0 and       # Condition 3\n",
    "                    P2 * P6 * P8 == 0):            # Condition 4\n",
    "                    changing2.append((x,y))    \n",
    "        for x, y in changing2: \n",
    "            Image_Thinned[x][y] = 0\n",
    "    return Image_Thinned"
   ]
  },
  {
   "cell_type": "code",
   "execution_count": 10,
   "metadata": {
    "collapsed": true
   },
   "outputs": [],
   "source": [
    "# Applying Zhang-Suen Thinning Algorithm to image ....\n",
    "BW_Skeleton = zhangSuen(BW_Original)\n",
    "import numpy as np\n",
    "BW_Skeleton = np.invert(BW_Skeleton)"
   ]
  },
  {
   "cell_type": "code",
   "execution_count": 11,
   "metadata": {},
   "outputs": [
    {
     "data": {
      "image/png": "[encoded data removed]",
      "text/plain": [
       "<matplotlib.figure.Figure at 0x1ba074e3550>"
      ]
     },
     "metadata": {},
     "output_type": "display_data"
    }
   ],
   "source": [
    "# Displaying the results ....\n",
    "fig, ax = plt.subplots(1, 2)\n",
    "ax1, ax2 = ax.ravel()\n",
    "ax1.imshow(BW_Original, cmap=plt.cm.gray)\n",
    "ax1.set_title('Original binary image')\n",
    "ax1.axis('off')\n",
    "ax2.imshow(BW_Skeleton, cmap=plt.cm.gray)\n",
    "ax2.set_title('Skeleton of the image')\n",
    "ax2.axis('off')\n",
    "plt.show()"
   ]
  },
  {
   "cell_type": "code",
   "execution_count": 12,
   "metadata": {
    "collapsed": true
   },
   "outputs": [],
   "source": [
    "# Saving the Skeleton image ....\n",
    "from scipy.misc import toimage\n",
    "Thinned = toimage(BW_Skeleton)\n",
    "Thinned.save('thinned_image.gif')"
   ]
  }
 ],
 "metadata": {
  "kernelspec": {
   "display_name": "Python 3",
   "language": "python",
   "name": "python3"
  },
  "language_info": {
   "codemirror_mode": {
    "name": "ipython",
    "version": 3
   },
   "file_extension": ".py",
   "mimetype": "text/x-python",
   "name": "python",
   "nbconvert_exporter": "python",
   "pygments_lexer": "ipython3",
   "version": "3.6.3"
  }
 },
 "nbformat": 4,
 "nbformat_minor": 2
}
